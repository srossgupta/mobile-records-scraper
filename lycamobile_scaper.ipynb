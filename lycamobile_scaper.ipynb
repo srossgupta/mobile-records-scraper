{
 "cells": [
  {
   "cell_type": "code",
   "execution_count": 5,
   "metadata": {},
   "outputs": [],
   "source": [
    "import requests\n",
    "from bs4 import BeautifulSoup\n",
    "import time\n",
    "import pandas as pd\n",
    "from selenium.webdriver.support.ui import Select\n",
    "import json\n",
    "from selenium import webdriver"
   ]
  },
  {
   "cell_type": "markdown",
   "metadata": {},
   "source": [
    "## Download the configs i.e. phone # and password"
   ]
  },
  {
   "cell_type": "code",
   "execution_count": 6,
   "metadata": {},
   "outputs": [],
   "source": [
    "with open(\"personal_config.json\") as f:\n",
    "    configs = json.load(f)\n",
    "login_url = \"https://www.lycamobile.us/en/\""
   ]
  },
  {
   "cell_type": "markdown",
   "metadata": {},
   "source": [
    "## create low head webdriver to scrape the data\n",
    " - requests library cannot be used because when we scrape the page, data is loaded dynamically using Ajax calls and Javascript"
   ]
  },
  {
   "cell_type": "code",
   "execution_count": 7,
   "metadata": {},
   "outputs": [
    {
     "name": "stderr",
     "output_type": "stream",
     "text": [
      "/usr/local/lib/python3.7/site-packages/selenium/webdriver/phantomjs/webdriver.py:49: UserWarning: Selenium support for PhantomJS has been deprecated, please use headless versions of Chrome or Firefox instead\n",
      "  warnings.warn('Selenium support for PhantomJS has been deprecated, please use headless '\n"
     ]
    }
   ],
   "source": [
    "# download phantomjs driver\n",
    "# other drivers available\n",
    "browser = webdriver.PhantomJS(executable_path=\"/Users/srossg/Downloads/phantomjs-2.1.1-macosx/bin/phantomjs\")\n",
    "browser.set_window_size(1124, 850)\n"
   ]
  },
  {
   "cell_type": "markdown",
   "metadata": {},
   "source": [
    "## Enter login page "
   ]
  },
  {
   "cell_type": "code",
   "execution_count": 8,
   "metadata": {},
   "outputs": [],
   "source": [
    "browser.get(login_url)\n",
    "button  = browser.find_element_by_id(\"logginedUserButton\")\n",
    "button.click()\n"
   ]
  },
  {
   "cell_type": "code",
   "execution_count": 9,
   "metadata": {},
   "outputs": [],
   "source": [
    "button  = browser.find_element_by_id(\"login_link\")\n",
    "button.click()"
   ]
  },
  {
   "cell_type": "code",
   "execution_count": 10,
   "metadata": {},
   "outputs": [],
   "source": [
    "tel_no = browser.find_element_by_id(\"lyca_login_mobile_no\")\n",
    "password = browser.find_element_by_id(\"lyca_login_password\")"
   ]
  },
  {
   "cell_type": "markdown",
   "metadata": {},
   "source": [
    "## enter mobile# and password"
   ]
  },
  {
   "cell_type": "code",
   "execution_count": 11,
   "metadata": {},
   "outputs": [],
   "source": [
    "tel_no.send_keys(configs[\"tel\"])\n",
    "password.send_keys(configs[\"password\"])"
   ]
  },
  {
   "cell_type": "code",
   "execution_count": 12,
   "metadata": {},
   "outputs": [],
   "source": [
    "button  = browser.find_element_by_id(\"login_submit\")\n",
    "button.click()"
   ]
  },
  {
   "cell_type": "code",
   "execution_count": 13,
   "metadata": {},
   "outputs": [],
   "source": [
    "output = browser.find_elements_by_id(\"result-set\")"
   ]
  },
  {
   "cell_type": "markdown",
   "metadata": {},
   "source": [
    "## Attach another session to same browser session"
   ]
  },
  {
   "cell_type": "code",
   "execution_count": 14,
   "metadata": {},
   "outputs": [],
   "source": [
    "url = browser.command_executor._url       #\"http://127.0.0.1:60622/hub\"\n",
    "session_id = browser.session_id"
   ]
  },
  {
   "cell_type": "code",
   "execution_count": 15,
   "metadata": {},
   "outputs": [],
   "source": [
    "driver = webdriver.Remote(command_executor=url,desired_capabilities={})\n",
    "driver.session_id = session_id"
   ]
  },
  {
   "cell_type": "markdown",
   "metadata": {},
   "source": [
    "## get all the months data available "
   ]
  },
  {
   "cell_type": "code",
   "execution_count": 16,
   "metadata": {},
   "outputs": [],
   "source": [
    "driver.get(\"https://www.lycamobile.us/en/my-account/callhistory/\")\n",
    "data1={\"call_type\":[],\"dialled_no\":[],\"date\":[],\"time\":[],\"duration\":[],\"cost\":[]}\n",
    "li=[]\n",
    "month_select = Select(driver.find_element_by_id(\"month-year\"))\n",
    "\n",
    "for each in month_select.options:\n",
    "    li.append(each.text.strip())\n",
    "li.remove('Select Month')"
   ]
  },
  {
   "cell_type": "code",
   "execution_count": 23,
   "metadata": {},
   "outputs": [
    {
     "data": {
      "text/plain": [
       "['May-2019',\n",
       " 'April-2019',\n",
       " 'March-2019',\n",
       " 'February-2019',\n",
       " 'January-2019',\n",
       " 'December-2018']"
      ]
     },
     "execution_count": 23,
     "metadata": {},
     "output_type": "execute_result"
    }
   ],
   "source": [
    "li"
   ]
  },
  {
   "cell_type": "code",
   "execution_count": 44,
   "metadata": {},
   "outputs": [],
   "source": [
    "month_select = Select(driver.find_element_by_id(\"month-year\"))\n",
    "month_select.select_by_value(li[4])"
   ]
  },
  {
   "cell_type": "code",
   "execution_count": 45,
   "metadata": {},
   "outputs": [
    {
     "data": {
      "text/plain": [
       "39"
      ]
     },
     "execution_count": 45,
     "metadata": {},
     "output_type": "execute_result"
    }
   ],
   "source": [
    "total_pagination = driver.find_element(by=\"className\",value='numpagescount')\n",
    "total_pagination_value = int(total_pagination.text.split()[-1])\n",
    "total_pagination_value"
   ]
  },
  {
   "cell_type": "code",
   "execution_count": 47,
   "metadata": {},
   "outputs": [],
   "source": [
    "for i in range(1,total_pagination_value):\n",
    "    table = driver.find_element_by_xpath(\"//table[@class='table-for-call-history']\")\n",
    "    for table_row in table.find_elements_by_xpath(\".//tr\"):\n",
    "        items_val = table_row.find_elements_by_xpath(\".//td\")\n",
    "        if len(items_val)>0:\n",
    "            data1[\"call_type\"].append(items_val[0].text)\n",
    "            data1[\"dialled_no\"].append(items_val[1].text)\n",
    "            data1[\"date\"].append(items_val[2].text)\n",
    "            data1[\"time\"].append(items_val[3].text)\n",
    "            data1[\"duration\"].append(items_val[4].text)\n",
    "            data1[\"cost\"].append(items_val[5].text)\n",
    "    button  = driver.find_element_by_id(\"nextValue\")\n",
    "    button.click()\n",
    "    time.sleep(1)"
   ]
  },
  {
   "cell_type": "markdown",
   "metadata": {},
   "source": [
    "## Automated the above process. \n",
    "## TODO: Just need to put appropriate sleep value to fetch correct pagination value"
   ]
  },
  {
   "cell_type": "code",
   "execution_count": null,
   "metadata": {},
   "outputs": [],
   "source": [
    "for month in li:\n",
    "    month_select.select_by_value(month)\n",
    "    time.sleep(2)\n",
    "    total_pagination = driver.find_element(by=\"className\",value='numpagescount')\n",
    "    total_pagination_value = int(total_pagination.text.split()[-1])\n",
    "    print(month,total_pagination_value)\n",
    "    for i in range(1,total_pagination_value):\n",
    "        table = driver.find_element_by_xpath(\"//table[@class='table-for-call-history']\")\n",
    "        for table_row in table.find_elements_by_xpath(\".//tr\"):\n",
    "            items_val = table_row.find_elements_by_xpath(\".//td\")\n",
    "            if len(items_val)>0:\n",
    "                data1[\"call_type\"].append(items_val[0].text)\n",
    "                data1[\"dialled_no\"].append(items_val[1].text)\n",
    "                data1[\"date\"].append(items_val[2].text)\n",
    "                data1[\"time\"].append(items_val[3].text)\n",
    "                data1[\"duration\"].append(items_val[4].text)\n",
    "                data1[\"cost\"].append(items_val[5].text)\n",
    "        button  = driver.find_element_by_id(\"nextValue\")\n",
    "        button.click()\n",
    "        time.sleep(1)"
   ]
  },
  {
   "cell_type": "code",
   "execution_count": 48,
   "metadata": {},
   "outputs": [],
   "source": [
    "df = pd.DataFrame(data1)"
   ]
  },
  {
   "cell_type": "code",
   "execution_count": 50,
   "metadata": {},
   "outputs": [],
   "source": [
    "df.to_csv(\"lycalogs.csv\")"
   ]
  },
  {
   "cell_type": "code",
   "execution_count": null,
   "metadata": {},
   "outputs": [],
   "source": [
    "driver.save_screenshot('screenshot.png')"
   ]
  },
  {
   "cell_type": "code",
   "execution_count": null,
   "metadata": {},
   "outputs": [],
   "source": [
    "browser.save_screenshot('screenshot.png')"
   ]
  }
 ],
 "metadata": {
  "kernelspec": {
   "display_name": "Python 3",
   "language": "python",
   "name": "python3"
  },
  "language_info": {
   "codemirror_mode": {
    "name": "ipython",
    "version": 3
   },
   "file_extension": ".py",
   "mimetype": "text/x-python",
   "name": "python",
   "nbconvert_exporter": "python",
   "pygments_lexer": "ipython3",
   "version": "3.7.0"
  }
 },
 "nbformat": 4,
 "nbformat_minor": 2
}
