{
 "cells": [
  {
   "cell_type": "code",
   "execution_count": 29,
   "metadata": {},
   "outputs": [],
   "source": [
    "import requests\n",
    "from lxml import html\n",
    "from bs4 import BeautifulSoup"
   ]
  },
  {
   "cell_type": "markdown",
   "metadata": {
    "collapsed": true
   },
   "source": [
    "payload = {\n",
    "    \"tel\": 4128863483,\n",
    "    \"password\": \"Sureshalka52#\"\n",
    "}"
   ]
  },
  {
   "cell_type": "markdown",
   "metadata": {
    "collapsed": true
   },
   "source": [
    "session_requests = requests.session()"
   ]
  },
  {
   "cell_type": "code",
   "execution_count": 30,
   "metadata": {},
   "outputs": [],
   "source": [
    "login_url = \"https://www.lycamobile.us/en/\"\n",
    "\n",
    "result = session_requests.post(\n",
    "\tlogin_url, \n",
    "\tdata = payload, \n",
    "\theaders = dict(referer=login_url)\n",
    ")\n",
    "\n",
    "url = \"https://www.lycamobile.us/en/my-account/callhistory/\"\n",
    "headers = {'user-agent': \"Mozilla/5.0 (Macintosh; Intel Mac OS X 10_14_3) AppleWebKit/537.36 (KHTML, like Gecko) Chrome/74.0.3729.131 Safari/537.36\"}\n",
    "cookies = {'SSESSae3ec1328c9a4fa29e363ebd2efb4219':'a25ef627ffecf1e4a91134a170eacabf', '_ga':'GA1.2.503814443.1557873853',\n",
    "          \"_gid\":\"GA1.2.994879259.1557873853\",\"_fbp\":\"fb.1.1557873853234.424123947\",\"_icl_current_language\":\"en\",\"cookie_notice_accepted\":\"true\"}\n",
    "\n",
    "s = requests.Session()\n",
    "r = s.get(url, headers=headers, cookies=cookies)"
   ]
  },
  {
   "cell_type": "code",
   "execution_count": null,
   "metadata": {},
   "outputs": [],
   "source": [
    "result = session_requests.post(\n",
    "\tlogin_url, \n",
    "\tdata = payload, \n",
    "\theaders = dict(referer=login_url)\n",
    ")"
   ]
  },
  {
   "cell_type": "code",
   "execution_count": null,
   "metadata": {},
   "outputs": [],
   "source": [
    "url = \"https://www.lycamobile.us/en/my-account/callhistory/\"\n",
    "headers = {'user-agent': \"Mozilla/5.0 (Macintosh; Intel Mac OS X 10_14_3) AppleWebKit/537.36 (KHTML, like Gecko) Chrome/74.0.3729.131 Safari/537.36\"}\n",
    "cookies = {'SSESSae3ec1328c9a4fa29e363ebd2efb4219':'a25ef627ffecf1e4a91134a170eacabf', '_ga':'GA1.2.503814443.1557873853',\n",
    "          \"_gid\":\"GA1.2.994879259.1557873853\",\"_fbp\":\"fb.1.1557873853234.424123947\",\"_icl_current_language\":\"en\",\"cookie_notice_accepted\":\"true\"}\n",
    "\n",
    "s = requests.Session()\n",
    "r = s.get(url, headers=headers, cookies=cookies)"
   ]
  },
  {
   "cell_type": "code",
   "execution_count": 31,
   "metadata": {},
   "outputs": [
    {
     "name": "stderr",
     "output_type": "stream",
     "text": [
      "/usr/local/lib/python3.7/site-packages/selenium/webdriver/phantomjs/webdriver.py:49: UserWarning: Selenium support for PhantomJS has been deprecated, please use headless versions of Chrome or Firefox instead\n",
      "  warnings.warn('Selenium support for PhantomJS has been deprecated, please use headless '\n"
     ]
    }
   ],
   "source": [
    "from selenium import webdriver\n",
    "browser = webdriver.PhantomJS(executable_path=\"/Users/srossg/Downloads/phantomjs-2.1.1-macosx/bin/phantomjs\")\n",
    "browser.set_window_size(1124, 850)\n"
   ]
  },
  {
   "cell_type": "code",
   "execution_count": 32,
   "metadata": {},
   "outputs": [],
   "source": [
    "browser.get(login_url)\n",
    "\n",
    "\n",
    "button  = browser.find_element_by_id(\"logginedUserButton\")\n",
    "button.click()\n",
    "\n",
    "button  = browser.find_element_by_id(\"login_link\")\n",
    "button.click()\n",
    "\n",
    "tel_no = browser.find_element_by_id(\"lyca_login_mobile_no\")\n",
    "password = browser.find_element_by_id(\"lyca_login_password\")\n",
    "\n",
    "tel_no.send_keys(\"4128863483\")\n",
    "password.send_keys(\"Sureshalka52#\")\n",
    "\n",
    "button  = browser.find_element_by_id(\"login_submit\")\n",
    "button.click()\n",
    "\n",
    "output = browser.find_elements_by_id(\"result-set\")\n",
    "\n",
    "url = browser.command_executor._url       #\"http://127.0.0.1:60622/hub\"\n",
    "session_id = browser.session_id\n",
    "\n",
    "driver = webdriver.Remote(command_executor=url,desired_capabilities={})\n",
    "driver.session_id = session_id\n",
    "\n",
    "driver.get(\"https://www.lycamobile.us/en/my-account/callhistory/\")"
   ]
  },
  {
   "cell_type": "code",
   "execution_count": 33,
   "metadata": {},
   "outputs": [],
   "source": [
    "button  = browser.find_element_by_id(\"logginedUserButton\")\n",
    "button.click()"
   ]
  },
  {
   "cell_type": "code",
   "execution_count": 34,
   "metadata": {},
   "outputs": [],
   "source": [
    "button  = browser.find_element_by_id(\"login_link\")\n",
    "button.click()"
   ]
  },
  {
   "cell_type": "code",
   "execution_count": 35,
   "metadata": {},
   "outputs": [],
   "source": [
    "tel_no = browser.find_element_by_id(\"lyca_login_mobile_no\")\n",
    "password = browser.find_element_by_id(\"lyca_login_password\")"
   ]
  },
  {
   "cell_type": "code",
   "execution_count": 36,
   "metadata": {},
   "outputs": [],
   "source": [
    "tel_no.send_keys(\"4128863483\")\n",
    "password.send_keys(\"Sureshalka52#\")"
   ]
  },
  {
   "cell_type": "code",
   "execution_count": 37,
   "metadata": {},
   "outputs": [],
   "source": [
    "button  = browser.find_element_by_id(\"login_submit\")\n",
    "button.click()"
   ]
  },
  {
   "cell_type": "code",
   "execution_count": 38,
   "metadata": {},
   "outputs": [],
   "source": [
    "output = browser.find_elements_by_id(\"result-set\")"
   ]
  },
  {
   "cell_type": "code",
   "execution_count": 39,
   "metadata": {},
   "outputs": [],
   "source": [
    "url = browser.command_executor._url       #\"http://127.0.0.1:60622/hub\"\n",
    "session_id = browser.session_id"
   ]
  },
  {
   "cell_type": "code",
   "execution_count": 40,
   "metadata": {},
   "outputs": [],
   "source": [
    "driver = webdriver.Remote(command_executor=url,desired_capabilities={})\n",
    "driver.session_id = session_id"
   ]
  },
  {
   "cell_type": "code",
   "execution_count": 41,
   "metadata": {},
   "outputs": [],
   "source": [
    "driver.get(\"https://www.lycamobile.us/en/my-account/callhistory/\")"
   ]
  },
  {
   "cell_type": "code",
   "execution_count": 42,
   "metadata": {},
   "outputs": [],
   "source": [
    "data1={\"call_type\":[],\"dialled_no\":[],\"date\":[],\"time\":[],\"duration\":[],\"cost\":[]}\n",
    "    \n",
    "    "
   ]
  },
  {
   "cell_type": "code",
   "execution_count": 45,
   "metadata": {},
   "outputs": [
    {
     "name": "stdout",
     "output_type": "stream",
     "text": [
      "[<selenium.webdriver.remote.webelement.WebElement (session=\"03c11450-7738-11e9-aac5-d112d51cfe63\", element=\":wdc:1557941878273\")>, <selenium.webdriver.remote.webelement.WebElement (session=\"03c11450-7738-11e9-aac5-d112d51cfe63\", element=\":wdc:1557941878274\")>, <selenium.webdriver.remote.webelement.WebElement (session=\"03c11450-7738-11e9-aac5-d112d51cfe63\", element=\":wdc:1557941878275\")>, <selenium.webdriver.remote.webelement.WebElement (session=\"03c11450-7738-11e9-aac5-d112d51cfe63\", element=\":wdc:1557941878276\")>, <selenium.webdriver.remote.webelement.WebElement (session=\"03c11450-7738-11e9-aac5-d112d51cfe63\", element=\":wdc:1557941878277\")>, <selenium.webdriver.remote.webelement.WebElement (session=\"03c11450-7738-11e9-aac5-d112d51cfe63\", element=\":wdc:1557941878278\")>]\n",
      "[<selenium.webdriver.remote.webelement.WebElement (session=\"03c11450-7738-11e9-aac5-d112d51cfe63\", element=\":wdc:1557941878279\")>, <selenium.webdriver.remote.webelement.WebElement (session=\"03c11450-7738-11e9-aac5-d112d51cfe63\", element=\":wdc:1557941878280\")>, <selenium.webdriver.remote.webelement.WebElement (session=\"03c11450-7738-11e9-aac5-d112d51cfe63\", element=\":wdc:1557941878281\")>, <selenium.webdriver.remote.webelement.WebElement (session=\"03c11450-7738-11e9-aac5-d112d51cfe63\", element=\":wdc:1557941878282\")>, <selenium.webdriver.remote.webelement.WebElement (session=\"03c11450-7738-11e9-aac5-d112d51cfe63\", element=\":wdc:1557941878283\")>, <selenium.webdriver.remote.webelement.WebElement (session=\"03c11450-7738-11e9-aac5-d112d51cfe63\", element=\":wdc:1557941878284\")>]\n",
      "[<selenium.webdriver.remote.webelement.WebElement (session=\"03c11450-7738-11e9-aac5-d112d51cfe63\", element=\":wdc:1557941878285\")>, <selenium.webdriver.remote.webelement.WebElement (session=\"03c11450-7738-11e9-aac5-d112d51cfe63\", element=\":wdc:1557941878286\")>, <selenium.webdriver.remote.webelement.WebElement (session=\"03c11450-7738-11e9-aac5-d112d51cfe63\", element=\":wdc:1557941878287\")>, <selenium.webdriver.remote.webelement.WebElement (session=\"03c11450-7738-11e9-aac5-d112d51cfe63\", element=\":wdc:1557941878288\")>, <selenium.webdriver.remote.webelement.WebElement (session=\"03c11450-7738-11e9-aac5-d112d51cfe63\", element=\":wdc:1557941878289\")>, <selenium.webdriver.remote.webelement.WebElement (session=\"03c11450-7738-11e9-aac5-d112d51cfe63\", element=\":wdc:1557941878290\")>]\n",
      "[<selenium.webdriver.remote.webelement.WebElement (session=\"03c11450-7738-11e9-aac5-d112d51cfe63\", element=\":wdc:1557941878291\")>, <selenium.webdriver.remote.webelement.WebElement (session=\"03c11450-7738-11e9-aac5-d112d51cfe63\", element=\":wdc:1557941878292\")>, <selenium.webdriver.remote.webelement.WebElement (session=\"03c11450-7738-11e9-aac5-d112d51cfe63\", element=\":wdc:1557941878293\")>, <selenium.webdriver.remote.webelement.WebElement (session=\"03c11450-7738-11e9-aac5-d112d51cfe63\", element=\":wdc:1557941878294\")>, <selenium.webdriver.remote.webelement.WebElement (session=\"03c11450-7738-11e9-aac5-d112d51cfe63\", element=\":wdc:1557941878295\")>, <selenium.webdriver.remote.webelement.WebElement (session=\"03c11450-7738-11e9-aac5-d112d51cfe63\", element=\":wdc:1557941878296\")>]\n",
      "[<selenium.webdriver.remote.webelement.WebElement (session=\"03c11450-7738-11e9-aac5-d112d51cfe63\", element=\":wdc:1557941878297\")>, <selenium.webdriver.remote.webelement.WebElement (session=\"03c11450-7738-11e9-aac5-d112d51cfe63\", element=\":wdc:1557941878298\")>, <selenium.webdriver.remote.webelement.WebElement (session=\"03c11450-7738-11e9-aac5-d112d51cfe63\", element=\":wdc:1557941878299\")>, <selenium.webdriver.remote.webelement.WebElement (session=\"03c11450-7738-11e9-aac5-d112d51cfe63\", element=\":wdc:1557941878300\")>, <selenium.webdriver.remote.webelement.WebElement (session=\"03c11450-7738-11e9-aac5-d112d51cfe63\", element=\":wdc:1557941878301\")>, <selenium.webdriver.remote.webelement.WebElement (session=\"03c11450-7738-11e9-aac5-d112d51cfe63\", element=\":wdc:1557941878302\")>]\n",
      "[<selenium.webdriver.remote.webelement.WebElement (session=\"03c11450-7738-11e9-aac5-d112d51cfe63\", element=\":wdc:1557941878303\")>, <selenium.webdriver.remote.webelement.WebElement (session=\"03c11450-7738-11e9-aac5-d112d51cfe63\", element=\":wdc:1557941878304\")>, <selenium.webdriver.remote.webelement.WebElement (session=\"03c11450-7738-11e9-aac5-d112d51cfe63\", element=\":wdc:1557941878305\")>, <selenium.webdriver.remote.webelement.WebElement (session=\"03c11450-7738-11e9-aac5-d112d51cfe63\", element=\":wdc:1557941878306\")>, <selenium.webdriver.remote.webelement.WebElement (session=\"03c11450-7738-11e9-aac5-d112d51cfe63\", element=\":wdc:1557941878307\")>, <selenium.webdriver.remote.webelement.WebElement (session=\"03c11450-7738-11e9-aac5-d112d51cfe63\", element=\":wdc:1557941878308\")>]\n",
      "[<selenium.webdriver.remote.webelement.WebElement (session=\"03c11450-7738-11e9-aac5-d112d51cfe63\", element=\":wdc:1557941878309\")>, <selenium.webdriver.remote.webelement.WebElement (session=\"03c11450-7738-11e9-aac5-d112d51cfe63\", element=\":wdc:1557941878310\")>, <selenium.webdriver.remote.webelement.WebElement (session=\"03c11450-7738-11e9-aac5-d112d51cfe63\", element=\":wdc:1557941878311\")>, <selenium.webdriver.remote.webelement.WebElement (session=\"03c11450-7738-11e9-aac5-d112d51cfe63\", element=\":wdc:1557941878312\")>, <selenium.webdriver.remote.webelement.WebElement (session=\"03c11450-7738-11e9-aac5-d112d51cfe63\", element=\":wdc:1557941878313\")>, <selenium.webdriver.remote.webelement.WebElement (session=\"03c11450-7738-11e9-aac5-d112d51cfe63\", element=\":wdc:1557941878314\")>]\n",
      "[<selenium.webdriver.remote.webelement.WebElement (session=\"03c11450-7738-11e9-aac5-d112d51cfe63\", element=\":wdc:1557941878315\")>, <selenium.webdriver.remote.webelement.WebElement (session=\"03c11450-7738-11e9-aac5-d112d51cfe63\", element=\":wdc:1557941878316\")>, <selenium.webdriver.remote.webelement.WebElement (session=\"03c11450-7738-11e9-aac5-d112d51cfe63\", element=\":wdc:1557941878317\")>, <selenium.webdriver.remote.webelement.WebElement (session=\"03c11450-7738-11e9-aac5-d112d51cfe63\", element=\":wdc:1557941878318\")>, <selenium.webdriver.remote.webelement.WebElement (session=\"03c11450-7738-11e9-aac5-d112d51cfe63\", element=\":wdc:1557941878319\")>, <selenium.webdriver.remote.webelement.WebElement (session=\"03c11450-7738-11e9-aac5-d112d51cfe63\", element=\":wdc:1557941878320\")>]\n",
      "[<selenium.webdriver.remote.webelement.WebElement (session=\"03c11450-7738-11e9-aac5-d112d51cfe63\", element=\":wdc:1557941878321\")>, <selenium.webdriver.remote.webelement.WebElement (session=\"03c11450-7738-11e9-aac5-d112d51cfe63\", element=\":wdc:1557941878322\")>, <selenium.webdriver.remote.webelement.WebElement (session=\"03c11450-7738-11e9-aac5-d112d51cfe63\", element=\":wdc:1557941878323\")>, <selenium.webdriver.remote.webelement.WebElement (session=\"03c11450-7738-11e9-aac5-d112d51cfe63\", element=\":wdc:1557941878324\")>, <selenium.webdriver.remote.webelement.WebElement (session=\"03c11450-7738-11e9-aac5-d112d51cfe63\", element=\":wdc:1557941878325\")>, <selenium.webdriver.remote.webelement.WebElement (session=\"03c11450-7738-11e9-aac5-d112d51cfe63\", element=\":wdc:1557941878326\")>]\n",
      "[<selenium.webdriver.remote.webelement.WebElement (session=\"03c11450-7738-11e9-aac5-d112d51cfe63\", element=\":wdc:1557941878327\")>, <selenium.webdriver.remote.webelement.WebElement (session=\"03c11450-7738-11e9-aac5-d112d51cfe63\", element=\":wdc:1557941878328\")>, <selenium.webdriver.remote.webelement.WebElement (session=\"03c11450-7738-11e9-aac5-d112d51cfe63\", element=\":wdc:1557941878329\")>, <selenium.webdriver.remote.webelement.WebElement (session=\"03c11450-7738-11e9-aac5-d112d51cfe63\", element=\":wdc:1557941878330\")>, <selenium.webdriver.remote.webelement.WebElement (session=\"03c11450-7738-11e9-aac5-d112d51cfe63\", element=\":wdc:1557941878331\")>, <selenium.webdriver.remote.webelement.WebElement (session=\"03c11450-7738-11e9-aac5-d112d51cfe63\", element=\":wdc:1557941878332\")>]\n"
     ]
    }
   ],
   "source": [
    "table = driver.find_element_by_xpath(\"//table[@class='table-for-call-history']\")\n",
    "\n",
    "for table_row in table.find_elements_by_xpath(\".//tr\"):\n",
    "    items_val = table_row.find_elements_by_xpath(\".//td\")\n",
    "    if len(items_val)>0:\n",
    "        data1[\"call_type\"].append(items_val[0].text)\n",
    "        data1[\"dialled_no\"].append(items_val[1].text)\n",
    "        data1[\"date\"].append(items_val[2].text)\n",
    "        data1[\"time\"].append(items_val[3].text)\n",
    "        data1[\"duration\"].append(items_val[4].text)\n",
    "        data1[\"cost\"].append(items_val[5].text)\n"
   ]
  },
  {
   "cell_type": "code",
   "execution_count": 47,
   "metadata": {},
   "outputs": [],
   "source": [
    "import pandas as pd"
   ]
  },
  {
   "cell_type": "code",
   "execution_count": 50,
   "metadata": {},
   "outputs": [
    {
     "data": {
      "text/html": [
       "<div>\n",
       "<style scoped>\n",
       "    .dataframe tbody tr th:only-of-type {\n",
       "        vertical-align: middle;\n",
       "    }\n",
       "\n",
       "    .dataframe tbody tr th {\n",
       "        vertical-align: top;\n",
       "    }\n",
       "\n",
       "    .dataframe thead th {\n",
       "        text-align: right;\n",
       "    }\n",
       "</style>\n",
       "<table border=\"1\" class=\"dataframe\">\n",
       "  <thead>\n",
       "    <tr style=\"text-align: right;\">\n",
       "      <th></th>\n",
       "      <th>call_type</th>\n",
       "      <th>dialled_no</th>\n",
       "      <th>date</th>\n",
       "      <th>time</th>\n",
       "      <th>duration</th>\n",
       "      <th>cost</th>\n",
       "    </tr>\n",
       "  </thead>\n",
       "  <tbody>\n",
       "    <tr>\n",
       "      <th>0</th>\n",
       "      <td>Data</td>\n",
       "      <td>NA</td>\n",
       "      <td>5/15/2019</td>\n",
       "      <td>01:51:24</td>\n",
       "      <td>NA</td>\n",
       "      <td>0.00</td>\n",
       "    </tr>\n",
       "    <tr>\n",
       "      <th>1</th>\n",
       "      <td>Data</td>\n",
       "      <td>NA</td>\n",
       "      <td>5/15/2019</td>\n",
       "      <td>03:51:24</td>\n",
       "      <td>NA</td>\n",
       "      <td>0.00</td>\n",
       "    </tr>\n",
       "    <tr>\n",
       "      <th>2</th>\n",
       "      <td>Data</td>\n",
       "      <td>NA</td>\n",
       "      <td>5/15/2019</td>\n",
       "      <td>05:51:24</td>\n",
       "      <td>NA</td>\n",
       "      <td>0.00</td>\n",
       "    </tr>\n",
       "    <tr>\n",
       "      <th>3</th>\n",
       "      <td>Data</td>\n",
       "      <td>NA</td>\n",
       "      <td>5/15/2019</td>\n",
       "      <td>07:51:24</td>\n",
       "      <td>NA</td>\n",
       "      <td>0.00</td>\n",
       "    </tr>\n",
       "    <tr>\n",
       "      <th>4</th>\n",
       "      <td>Voice</td>\n",
       "      <td>18887622265</td>\n",
       "      <td>5/15/2019</td>\n",
       "      <td>08:36:27</td>\n",
       "      <td>0:08:44</td>\n",
       "      <td>0.00</td>\n",
       "    </tr>\n",
       "    <tr>\n",
       "      <th>5</th>\n",
       "      <td>Voice</td>\n",
       "      <td>919929486500</td>\n",
       "      <td>5/15/2019</td>\n",
       "      <td>08:45:15</td>\n",
       "      <td>0:00:00</td>\n",
       "      <td>0.00</td>\n",
       "    </tr>\n",
       "    <tr>\n",
       "      <th>6</th>\n",
       "      <td>Voice</td>\n",
       "      <td>919929486500</td>\n",
       "      <td>5/15/2019</td>\n",
       "      <td>08:46:05</td>\n",
       "      <td>0:14:15</td>\n",
       "      <td>0.00</td>\n",
       "    </tr>\n",
       "    <tr>\n",
       "      <th>7</th>\n",
       "      <td>Voice</td>\n",
       "      <td>14128863483</td>\n",
       "      <td>5/15/2019</td>\n",
       "      <td>11:35:37</td>\n",
       "      <td>0:00:11</td>\n",
       "      <td>0.00</td>\n",
       "    </tr>\n",
       "    <tr>\n",
       "      <th>8</th>\n",
       "      <td>Voice</td>\n",
       "      <td>18453011610</td>\n",
       "      <td>5/15/2019</td>\n",
       "      <td>11:35:37</td>\n",
       "      <td>0:00:12</td>\n",
       "      <td>0.00</td>\n",
       "    </tr>\n",
       "    <tr>\n",
       "      <th>9</th>\n",
       "      <td>Data</td>\n",
       "      <td>NA</td>\n",
       "      <td>5/14/2019</td>\n",
       "      <td>01:14:00</td>\n",
       "      <td>NA</td>\n",
       "      <td>0.00</td>\n",
       "    </tr>\n",
       "  </tbody>\n",
       "</table>\n",
       "</div>"
      ],
      "text/plain": [
       "  call_type    dialled_no       date      time duration  cost\n",
       "0      Data            NA  5/15/2019  01:51:24       NA  0.00\n",
       "1      Data            NA  5/15/2019  03:51:24       NA  0.00\n",
       "2      Data            NA  5/15/2019  05:51:24       NA  0.00\n",
       "3      Data            NA  5/15/2019  07:51:24       NA  0.00\n",
       "4     Voice   18887622265  5/15/2019  08:36:27  0:08:44  0.00\n",
       "5     Voice  919929486500  5/15/2019  08:45:15  0:00:00  0.00\n",
       "6     Voice  919929486500  5/15/2019  08:46:05  0:14:15  0.00\n",
       "7     Voice   14128863483  5/15/2019  11:35:37  0:00:11  0.00\n",
       "8     Voice   18453011610  5/15/2019  11:35:37  0:00:12  0.00\n",
       "9      Data            NA  5/14/2019  01:14:00       NA  0.00"
      ]
     },
     "execution_count": 50,
     "metadata": {},
     "output_type": "execute_result"
    }
   ],
   "source": [
    "pd.DataFrame(data1)"
   ]
  },
  {
   "cell_type": "code",
   "execution_count": 44,
   "metadata": {},
   "outputs": [
    {
     "data": {
      "text/plain": [
       "True"
      ]
     },
     "execution_count": 44,
     "metadata": {},
     "output_type": "execute_result"
    }
   ],
   "source": [
    "driver.save_screenshot('screenshot.png')"
   ]
  },
  {
   "cell_type": "code",
   "execution_count": 27,
   "metadata": {},
   "outputs": [
    {
     "data": {
      "text/plain": [
       "True"
      ]
     },
     "execution_count": 27,
     "metadata": {},
     "output_type": "execute_result"
    }
   ],
   "source": [
    "browser.save_screenshot('screenshot.png')"
   ]
  },
  {
   "cell_type": "code",
   "execution_count": 28,
   "metadata": {
    "collapsed": true
   },
   "outputs": [],
   "source": [
    "url = 'https://www.lycamobile.us/en/my-account/callhistory/'\n",
    "result = session_requests.get(\n",
    "\turl, \n",
    "\theaders = dict(referer = url)\n",
    ")"
   ]
  },
  {
   "cell_type": "code",
   "execution_count": 43,
   "metadata": {},
   "outputs": [],
   "source": [
    "soup = BeautifulSoup(r.text,\"html.parser\")"
   ]
  },
  {
   "cell_type": "code",
   "execution_count": null,
   "metadata": {
    "collapsed": true
   },
   "outputs": [],
   "source": []
  },
  {
   "cell_type": "code",
   "execution_count": null,
   "metadata": {
    "collapsed": true
   },
   "outputs": [],
   "source": []
  },
  {
   "cell_type": "code",
   "execution_count": 135,
   "metadata": {},
   "outputs": [],
   "source": [
    "table_id = driver.find_element(by=\"id\",value='result-set')\n"
   ]
  },
  {
   "cell_type": "code",
   "execution_count": 140,
   "metadata": {},
   "outputs": [
    {
     "data": {
      "text/plain": [
       "<selenium.webdriver.remote.webelement.WebElement (session=\"18dd8250-76bc-11e9-87ec-9d2186aa6f68\", element=\":wdc:1557891766218\")>"
      ]
     },
     "execution_count": 140,
     "metadata": {},
     "output_type": "execute_result"
    }
   ],
   "source": [
    "values"
   ]
  }
 ],
 "metadata": {
  "kernelspec": {
   "display_name": "Python 3",
   "language": "python",
   "name": "python3"
  },
  "language_info": {
   "codemirror_mode": {
    "name": "ipython",
    "version": 3
   },
   "file_extension": ".py",
   "mimetype": "text/x-python",
   "name": "python",
   "nbconvert_exporter": "python",
   "pygments_lexer": "ipython3",
   "version": "3.7.0"
  }
 },
 "nbformat": 4,
 "nbformat_minor": 2
}
